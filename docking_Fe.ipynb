{
 "cells": [
  {
   "cell_type": "markdown",
   "metadata": {},
   "source": [
    "# Autodock4 Fe: for metaloproteins docking"
   ]
  },
  {
   "cell_type": "markdown",
   "metadata": {},
   "source": [
    "<p style=\"font-size:0.8em;line-height:50%\">Gustavo E. Olivos Ramirez.</p>\n",
    "<p style=\"font-size:0.8em;line-height:50%\">Universidad Peruana Cayetano Heredia, Lima, Perú.</p>\n",
    "<p style=\"font-size:0.8em;line-height:50%\">gustavo.olivos@upch.pe</p>"
   ]
  },
  {
   "cell_type": "markdown",
   "metadata": {},
   "source": [
    "<p style=\"text-align: justify;font-family: Comic;color:black;font-size:1.3em\">This is a step-by-step tutorial to analyse protein interaction with metalic ion and ligand through molecular docking. The command lines can be runned from terminal in ubuntu. </p>"
   ]
  },
  {
   "cell_type": "markdown",
   "metadata": {},
   "source": [
    "<td class=\"first\">\n",
    "<p style=\"text-align: justify;font-family: Comic;color:black;font-size:1.1em; font-weight: bold\">Software requirements:</p>\n",
    "<p style=\"text-align: justify;font-family: Comic;color:black;font-size:1.0em\">- Autodock version 4.2.6 or higher (sudo apt-get install autodock).</p>\n",
    "<p style=\"text-align: justify;font-family: Comic;color:black;font-size:1.0em\">- Autogrid version 4.2.6 or higher (sudo apt-get install autodogrid).</p>\n",
    "<p style=\"text-align: justify;font-family: Comic;color:black;font-size:1.0em\">- MGLTools version 1.5.7 or higher.</p>\n",
    "<p style=\"text-align: justify;font-family: Comic;color:black;font-size:1.1em; font-weight: bold\">Required input files: </p>\n",
    "<p style=\"text-align: justify;font-family: Comic;color:black;font-size:1.0em\">- receptor.pdb. </p>\n",
    "<p style=\"text-align: justify;font-family: Comic;color:black;font-size:1.0em\">- ligand.sdf. </p>\n",
    "</td>\n",
    "<td class=\"second\">\n",
    "<p style=\"text-align: justify;font-family: Comic;color:black;font-size:1.1em; font-weight: bold\">Scripts </p>\n",
    "<p style=\"text-align: justify;font-family: Comic;color:black;font-size:1.0em\">- prepare_gpf4.py</p>\n",
    "<p style=\"text-align: justify;font-family: Comic;color:black;font-size:1.0em\">- prepare_dpf4.py</p>\n",
    "<p style=\"text-align: justify;font-family: Comic;color:black;font-size:1.0em\">- prepare_receptor4.py (optional)</p>\n",
    "<p style=\"text-align: justify;font-family: Comic;color:black;font-size:1.0em\">- pythonsh</p>\n",
    "<p style=\"text-align: justify;font-family: Comic;color:black;font-size:1.0em\">- AD4_parameters.dat</p>\n",
    "</td>"
   ]
  },
  {
   "cell_type": "markdown",
   "metadata": {},
   "source": [
    "## Introduction"
   ]
  },
  {
   "cell_type": "markdown",
   "metadata": {},
   "source": [
    "<p style=\"text-align: justify;font-family: Comic;color:black;font-size:1.3em\">Tuberculosis (TB), caused by<i> Mycobaterium (M.) tuberculosis</i>, represents one of the main causes of death in the world, and for which there exits a great interest for the development of strategies to reduce its prevalence. Pirazinamida represents one of the most important drug and is frecuently used for the treatment of this disease, since its use can reduce the time of treatment (from 9 to 6 moths) and it has been suggested as the unique drug that has an effect under latent bacteria state. In this sence, insights into its action mode at a molecular level need to be achieved. In this tutorial, a molecular docking using pyrazinamide (ligand) and pyrazinamidase (receptor) (PDB ID: 3PL1) is exemplified, to provide insights into atomistic interactions for futher analysis. </p> "
   ]
  },
  {
   "cell_type": "markdown",
   "metadata": {},
   "source": [
    "![alt text](receptor.png \"Title\")\n",
    "<p style=\"text-align: center;font-family: Arial;color:black;font-size:1.2em;\">Figure 1. Pirazinamide (sticks) and PZasa (cartoon) interaction, in presence of Fe<sup>+2</sup> (sphere).</p>"
   ]
  },
  {
   "cell_type": "markdown",
   "metadata": {},
   "source": [
    "## Step one (1): Ligand preparation."
   ]
  },
  {
   "cell_type": "markdown",
   "metadata": {},
   "source": [
    "<p style=\"text-align: justify;font-family: Comic;color:black;font-size:1.3em\">Pirazinamide is used as ligand and is retrieved from PubChem database (<a href=\"https://pubchem.ncbi.nlm.nih.gov/\">https://pubchem.ncbi.nlm.nih.gov/</a>) (PubChem ID: 1046) in *.SDF format. To accomplish this task, PubChemPy tool is used. Moreover, the *.SDF file need to be transformed into *.PDBQT, and energetically minimized.</p> "
   ]
  },
  {
   "cell_type": "code",
   "execution_count": null,
   "metadata": {},
   "outputs": [],
   "source": [
    "%%bash\n",
    "pip install PubChemPy\n",
    "# This part is used to install PubChemPy."
   ]
  },
  {
   "cell_type": "code",
   "execution_count": null,
   "metadata": {},
   "outputs": [],
   "source": [
    ">>> from pubchempy import get_compounds, Compound\n",
    ">>> comp = Compound.from_cid(1046)\n",
    ">>> print(comp.isomeric_smiles)\n",
    "# These commands show the smile form of the compound (not necessary to run)."
   ]
  },
  {
   "cell_type": "code",
   "execution_count": null,
   "metadata": {},
   "outputs": [],
   "source": [
    "from pubchempy import *\n",
    "download('SDF', 'ligand.sdf', '1046', 'cid')\n",
    "# These commands download the ligand (pirazinamide) as ligand.sdf (2D format)."
   ]
  },
  {
   "cell_type": "code",
   "execution_count": null,
   "metadata": {},
   "outputs": [],
   "source": [
    "%%bash\n",
    "pymol='/home/schrodinger/Installers/pymol/bin/pymol'\n",
    "$pymol ligand.sdf\n",
    "# Now we can check the ligand structure with pymol \n",
    "# We assume that pymol is already installed and not explain this procedure."
   ]
  },
  {
   "cell_type": "code",
   "execution_count": null,
   "metadata": {},
   "outputs": [],
   "source": [
    "%%bash\n",
    "babel -isdf ligand.sdf -opdb ligand.pdb --gen3D -p 7.4\n",
    "# In this part, the lingand.sdf file is converted to ligand.pdb. 3D coordenates are generated at pH=7.4\n",
    "# Babel is also assumed to be installed.\n",
    "# A message like this is expected to appear: 1 molecule converted 125 audit log messages"
   ]
  },
  {
   "cell_type": "code",
   "execution_count": null,
   "metadata": {},
   "outputs": [],
   "source": [
    "%%bash\n",
    "pymol='/home/schrodinger/Installers/pymol/bin/pymol'\n",
    "$pymol ligand.pdb\n",
    "# Now we check the new generated structure with pymol."
   ]
  },
  {
   "cell_type": "code",
   "execution_count": null,
   "metadata": {},
   "outputs": [],
   "source": [
    "%%bash\n",
    "./pythonsh prepare_ligand4.py -l ligand.pdb -o ligand.pdbqt -A hydrogens"
   ]
  },
  {
   "cell_type": "code",
   "execution_count": null,
   "metadata": {},
   "outputs": [],
   "source": [
    "%%bash\n",
    "obminimize -ff MMFF94 -n 5000 -sd -c 1e-9 ligand.pdbqt\n",
    "# In this part we the ligand (pirazinamide) is energeticaly minimized."
   ]
  },
  {
   "cell_type": "code",
   "execution_count": null,
   "metadata": {},
   "outputs": [],
   "source": [
    "%%bash\n",
    "pymol='/home/schrodinger/Installers/pymol/bin/pymol'\n",
    "$pymol ligand.pdbqt\n",
    "# Finally, we check the last structure generated, which will be used in the molecular docking procedure."
   ]
  },
  {
   "cell_type": "markdown",
   "metadata": {},
   "source": [
    "## Step two (2): Receptor preparation."
   ]
  },
  {
   "cell_type": "markdown",
   "metadata": {},
   "source": [
    "<p style=\"text-align: justify;font-family: Comic;color:black;font-size:1.3em\">The receptor used in this part (PZase) is download from the Protein Data Bank (<a href=\"https://www.rcsb.org/\">https://www.rcsb.org/</a>) (PDB ID: 3PL1) in *.PDB format. Besides, the receptor need to be prepared i</p> "
   ]
  },
  {
   "cell_type": "code",
   "execution_count": null,
   "metadata": {},
   "outputs": [],
   "source": [
    "%%bash\n",
    "receptor=3PL1\n",
    "wget https://files.rcsb.org/download/$receptor.pdb\n",
    "# The wget command allow it to download the receptor remotely."
   ]
  },
  {
   "cell_type": "code",
   "execution_count": null,
   "metadata": {},
   "outputs": [],
   "source": [
    "%%bash\n",
    "./pythonsh prepare_receptor4.py -r 3PL1.pdb -o 3PL1.pdbqt -A hydrogens"
   ]
  },
  {
   "cell_type": "code",
   "execution_count": null,
   "metadata": {},
   "outputs": [],
   "source": [
    "%%bash\n",
    "cat 3PL1.pdbqt | sed 's/0.000 Fe/2.000 Fe/' > tmp\n",
    "mv tmp receptor.pdbqt\n",
    "# In this part, we add charges to Fe ion."
   ]
  },
  {
   "cell_type": "code",
   "execution_count": null,
   "metadata": {},
   "outputs": [],
   "source": [
    "%%bash\n",
    "adt=\"/home/schrodinger/Installers/mgltools_x86_64Linux2_1.5.7rc1/bin/./adt\"\n",
    "$adt receptor.pdbqt\n",
    "# Now, in this step wi will define boxsize and grid-center manually.\n",
    "# Take note of these values to use them in the following step."
   ]
  },
  {
   "cell_type": "code",
   "execution_count": null,
   "metadata": {},
   "outputs": [],
   "source": [
    "%%bash\n",
    "pymol='/home/schrodinger/Installers/pymol/bin/pymol'\n",
    "$pymol receptor.pdbqt\n",
    "# Finally, we check the last receptor structure in PDBQT."
   ]
  },
  {
   "cell_type": "markdown",
   "metadata": {},
   "source": [
    "## Step three (3): Generating grid parameter file (.gpf)."
   ]
  },
  {
   "cell_type": "code",
   "execution_count": null,
   "metadata": {},
   "outputs": [],
   "source": [
    "%%bash\n",
    "./pythonsh prepare_gpf4.py -l ligand.pdbqt -r receptor.pdbqt -o grid_map.gpf -p npts=40,40,40 -p gridcenter=9.320,-26.529,-1.834 -p parameter_file=AD4_parameters.dat\n",
    "# In this step, we define the grid parameters, considering the boxsize and gri-center.\n",
    "# Parameters for iron ion also is considered."
   ]
  },
  {
   "cell_type": "markdown",
   "metadata": {},
   "source": [
    "## Step four (4): Running Autogrid."
   ]
  },
  {
   "cell_type": "code",
   "execution_count": null,
   "metadata": {},
   "outputs": [],
   "source": [
    "%%bash\n",
    "autogrid4 -p grid_map.gpf -l grid_map.glg\n",
    "# In this step, we generate the grid files."
   ]
  },
  {
   "cell_type": "markdown",
   "metadata": {},
   "source": [
    "## Step five (5): Generating docking parameter files (.dpf)."
   ]
  },
  {
   "cell_type": "code",
   "execution_count": null,
   "metadata": {},
   "outputs": [],
   "source": [
    "%%bash\n",
    "./pythonsh prepare_dpf4.py -l ligand.pdbqt -r receptor.pdbqt -p ga_run=100 -p ga_pop_size=350 -o genetics_algorithm.dpf\n",
    "# In the next step, docking parameters, for genetics algorithm, is set up."
   ]
  },
  {
   "cell_type": "markdown",
   "metadata": {},
   "source": [
    "## Step six (6): Running Autodock."
   ]
  },
  {
   "cell_type": "code",
   "execution_count": null,
   "metadata": {},
   "outputs": [],
   "source": [
    "%%bash\n",
    "autodock4 -p genetics_algorithm.dpf -l genetics_algorithm.dlg\n",
    "# In this step, we run the genetics algorithm."
   ]
  },
  {
   "cell_type": "code",
   "execution_count": null,
   "metadata": {},
   "outputs": [],
   "source": [
    "%%bash\n",
    "gedit genetics_algorithm.dlg\n",
    "# Finally, we review the results."
   ]
  }
 ],
 "metadata": {
  "kernelspec": {
   "display_name": "Python 3",
   "language": "python",
   "name": "python3"
  },
  "language_info": {
   "codemirror_mode": {
    "name": "ipython",
    "version": 3
   },
   "file_extension": ".py",
   "mimetype": "text/x-python",
   "name": "python",
   "nbconvert_exporter": "python",
   "pygments_lexer": "ipython3",
   "version": "3.7.4"
  }
 },
 "nbformat": 4,
 "nbformat_minor": 2
}
